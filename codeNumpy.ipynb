{
 "cells": [
  {
   "cell_type": "code",
   "execution_count": 4,
   "id": "7107e555-9df1-4074-b37b-c4e630441865",
   "metadata": {},
   "outputs": [
    {
     "name": "stdout",
     "output_type": "stream",
     "text": [
      "Cac so nguyen to da duoc luu vao tep output.txt\n",
      "Tong so luong so nguyen to: 66597\n"
     ]
    }
   ],
   "source": [
    "import numpy as np\n",
    "\n",
    "def sang_nguyen_to(n):\n",
    "    nguyen_to = np.ones(n + 1, dtype=bool)\n",
    "    nguyen_to[:2] = False\n",
    "    for i in range(2, int(np.sqrt(n)) + 1):\n",
    "        if nguyen_to[i]:\n",
    "            nguyen_to[i * i::i] = False\n",
    "    return np.flatnonzero(nguyen_to)\n",
    "\n",
    "if __name__ == '__main__':\n",
    "    ten_tep = \"onemillionnumber.txt\"\n",
    "    with open(ten_tep, \"r\") as tep:\n",
    "        n = int(tep.readline().strip())\n",
    "        a = []\n",
    "        for _ in range(n):\n",
    "            b = np.array(list(map(int, tep.readline().strip().split())))\n",
    "            a.append(b)\n",
    "    a = np.array(a)\n",
    "    gia_tri_lon_nhat = a.max()\n",
    "    cac_so_nguyen_to = sang_nguyen_to(gia_tri_lon_nhat + 1)\n",
    "    danh_sach_nguyen_to = np.isin(a, cac_so_nguyen_to)\n",
    "    cac_phan_tu_nguyen_to = a[danh_sach_nguyen_to]\n",
    "    so_luong_nguyen_to = len(cac_phan_tu_nguyen_to)\n",
    "    ten_tep_xuat = \"output.txt\"\n",
    "    with open(ten_tep_xuat, \"w\") as tep_xuat:\n",
    "        np.savetxt(tep_xuat, cac_phan_tu_nguyen_to, fmt='%d', newline=' ')\n",
    "        tep_xuat.write(f\"\\n Co Tat Ca {so_luong_nguyen_to} So Nguyen To\\n\")\n",
    "    print(f\"Cac so nguyen to da duoc luu vao tep {ten_tep_xuat}\")\n",
    "    print(f\"Tong so luong so nguyen to: {so_luong_nguyen_to}\")\n"
   ]
  }
 ],
 "metadata": {
  "kernelspec": {
   "display_name": "Python 3 (ipykernel)",
   "language": "python",
   "name": "python3"
  },
  "language_info": {
   "codemirror_mode": {
    "name": "ipython",
    "version": 3
   },
   "file_extension": ".py",
   "mimetype": "text/x-python",
   "name": "python",
   "nbconvert_exporter": "python",
   "pygments_lexer": "ipython3",
   "version": "3.11.7"
  }
 },
 "nbformat": 4,
 "nbformat_minor": 5
}
