{
 "cells": [
  {
   "cell_type": "code",
   "execution_count": 1,
   "id": "939f6ea0-bfd4-4c62-b5ad-f12a2a2c3f53",
   "metadata": {},
   "outputs": [
    {
     "name": "stdout",
     "output_type": "stream",
     "text": [
      "Ma trận đã được lưu vào tệp long100.txt\n"
     ]
    }
   ],
   "source": [
    "import random\n",
    "\n",
    "# Kích thước ma trận\n",
    "n=100\n",
    "\n",
    "# Hàm để tạo số ngẫu nhiên với độ đa dạng cao hơn và các khoảng giá trị nhỏ hơn\n",
    "def diverse_random():\n",
    "    # Xác suất chọn khoảng giá trị khác nhau\n",
    "    r = random.random()\n",
    "    if r < 0.1:\n",
    "        return random.randint(0, 10**4)            # 0 đến 10,000\n",
    "    elif r < 0.2:\n",
    "        return random.randint(10**4, 10**5)        # 10,001 đến 100,000\n",
    "    elif r < 0.3:\n",
    "        return random.randint(10**5, 10**6)        # 100,001 đến 1,000,000\n",
    "    elif r < 0.4:\n",
    "        return random.randint(10**6, 10**7)        # 1,000,001 đến 10,000,000\n",
    "    elif r < 0.5:\n",
    "        return random.randint(10**7, 10**8)        # 10,000,001 đến 100,000,000\n",
    "    elif r < 0.6:\n",
    "        return random.randint(10**8, 2 * 10**8)    # 100,000,001 đến 200,000,000\n",
    "    elif r < 0.7:\n",
    "        return random.randint(2 * 10**8, 5 * 10**8) # 200,000,001 đến 500,000,000\n",
    "    elif r < 0.8:\n",
    "        return random.randint(5 * 10**8, 7 * 10**8) # 500,000,001 đến 700,000,000\n",
    "    elif r < 0.9:\n",
    "        return random.randint(7 * 10**8, 9 * 10**8) # 700,000,001 đến 900,000,000\n",
    "    else:\n",
    "        return random.randint(9 * 10**8, 10**9)    # 900,000,001 đến 1,000,000,000\n",
    "\n",
    "# Tạo ma trận kích thước n x n với các số ngẫu nhiên\n",
    "matrix = []\n",
    "for i in range(n):\n",
    "    row = []\n",
    "    for j in range(n):\n",
    "        row.append(diverse_random())\n",
    "    matrix.append(row)\n",
    "\n",
    "# Ghi ma trận vào tệp văn bản\n",
    "filename = \"long100.txt\"\n",
    "with open(filename, \"w\") as file:\n",
    "    file.write(f\"{n}\\n\")  # Ghi kích thước của ma trận\n",
    "    for row in matrix:\n",
    "        file.write(' '.join(map(str, row)) + \"\\n\")\n",
    "\n",
    "print(f\"Ma trận đã được lưu vào tệp {filename}\")\n"
   ]
  }
 ],
 "metadata": {
  "kernelspec": {
   "display_name": "Python 3 (ipykernel)",
   "language": "python",
   "name": "python3"
  },
  "language_info": {
   "codemirror_mode": {
    "name": "ipython",
    "version": 3
   },
   "file_extension": ".py",
   "mimetype": "text/x-python",
   "name": "python",
   "nbconvert_exporter": "python",
   "pygments_lexer": "ipython3",
   "version": "3.11.7"
  }
 },
 "nbformat": 4,
 "nbformat_minor": 5
}
